{
 "cells": [
  {
   "cell_type": "code",
   "execution_count": 17,
   "id": "45921ac8-637d-43c7-9ad1-cdc0a36e7620",
   "metadata": {},
   "outputs": [],
   "source": [
    "from dotenv import load_dotenv\n",
    "import os\n",
    "import getpass\n",
    "\n",
    "load_dotenv()\n",
    "\n",
    "MODEL_API_KEY= os.environ.get('GOOGLE_API_KEY','-1')\n",
    "if not os.environ.get(\"GOOGLE_API_KEY\"):\n",
    "  os.environ[\"GOOGLE_API_KEY\"] = getpass.getpass(\"Enter API key for Google Gemini: \")\n",
    "\n",
    "from langchain.chat_models import init_chat_model\n",
    "\n",
    "llm = init_chat_model(\"gemini-2.5-flash\", model_provider=\"google_genai\")\n",
    "\n",
    "# Initialize vision model for image analysis\n",
    "vision_llm = init_chat_model(\"gemini-2.5-flash\", model_provider=\"google_genai\")"
   ]
  },
  {
   "cell_type": "code",
   "execution_count": 18,
   "id": "762870aa-7021-43e6-8b27-cd461ba5631a",
   "metadata": {},
   "outputs": [],
   "source": [
    "import chromadb.utils.embedding_functions as embedding_functions\n",
    "\n",
    "hg_key = os.environ.get('hugging_face_token', '-1')\n",
    "huggingface_ef = embedding_functions.HuggingFaceEmbeddingFunction(\n",
    "    api_key=hg_key,\n",
    "    model_name=\"sentence-transformers/all-MiniLM-L6-v2\"\n",
    ")"
   ]
  },
  {
   "cell_type": "markdown",
   "id": "82143d15",
   "metadata": {},
   "source": [
    "Chroma DB connection with local embedding function for cost saving"
   ]
  },
  {
   "cell_type": "code",
   "execution_count": null,
   "id": "d0966015",
   "metadata": {},
   "outputs": [],
   "source": "import chromadb\n  \nclient = chromadb.CloudClient(\n  api_key='ck-7Ns17PwTNfFFSAYDufcAthrTRYiVDWdNfJNnnE2NcVFj',\n  tenant='aeec19d2-70b2-444d-9893-b0067678e351',\n  database='raggerDB'\n)\n\n# Create collections for both documents and chat history\ntry:\n    documents_collection = client.get_collection(\"documents\", embedding_function=huggingface_ef)\n    print(\"Documents collection found\")\nexcept:\n    documents_collection = client.create_collection(\"documents\", embedding_function=huggingface_ef)\n    print(\"Documents collection created\")\n\ntry:\n    chat_collection = client.get_collection(\"chat_history\", embedding_function=huggingface_ef)\n    print(\"Chat collection found\")\nexcept:\n    chat_collection = client.create_collection(\"chat_history\", embedding_function=huggingface_ef)\n    print(\"Chat collection created\")"
  },
  {
   "cell_type": "code",
   "execution_count": null,
   "id": "526bd5ae",
   "metadata": {},
   "outputs": [],
   "source": [
    "\n",
    "# Create collections for both documents and chat history\n",
    "documents_collection = client.create_collection(\"documents\", embedding_function=huggingface_ef)\n",
    "chat_collection = client.create_collection(\"chat_history\", embedding_function=huggingface_ef)"
   ]
  },
  {
   "cell_type": "markdown",
   "id": "5336ddcf",
   "metadata": {},
   "source": [
    "## File processing layer"
   ]
  },
  {
   "cell_type": "code",
   "execution_count": 21,
   "id": "181eecbe",
   "metadata": {},
   "outputs": [
    {
     "name": "stdout",
     "output_type": "stream",
     "text": [
      "Warning: pytesseract not available. OCR functionality will be limited.\n",
      "Warning: Google Vision API not available. Using Tesseract for OCR.\n"
     ]
    }
   ],
   "source": [
    "import util.data_extraction as data_extraction\n",
    "from util.smart_chunking import SmartDocumentChunker\n",
    "\n",
    "# Initialize smart chunker\n",
    "chunker = SmartDocumentChunker(chunk_size=1000, chunk_overlap=200)\n",
    "\n",
    "# Enhanced file loader function for multi-modal input\n",
    "def process_file(file_path: str):\n",
    "    \"\"\"Process a file using enhanced extraction and smart chunking\"\"\"\n",
    "    try:\n",
    "        # Extract content with OCR\n",
    "        text, images, links = data_extraction.extract_content(file_path)\n",
    "        print(f\"Extracted {len(text)} characters, {len(images)} images, {len(links)} links\")\n",
    "        \n",
    "        # Apply smart chunking\n",
    "        documents = chunker.chunk_document(text, file_path, images, links)\n",
    "        print(f\"Created {len(documents)} chunks\")\n",
    "        \n",
    "        return documents\n",
    "    except Exception as e:\n",
    "        print(f\"Error processing file {file_path}: {e}\")\n",
    "        return []\n",
    "\n",
    "# Example usage (commented out until we have actual files)\n",
    "# docs = process_file(\"path/to/your/document.pdf\")"
   ]
  },
  {
   "cell_type": "markdown",
   "id": "514c16f4",
   "metadata": {},
   "source": [
    "### Chat management layer"
   ]
  },
  {
   "cell_type": "code",
   "execution_count": 22,
   "id": "qfvdrqpdyj",
   "metadata": {},
   "outputs": [],
   "source": [
    "import uuid\n",
    "import json\n",
    "from datetime import datetime\n",
    "from typing import Dict, List, Optional\n",
    "\n",
    "class ChatHistoryManager:\n",
    "    def __init__(self, chat_collection, llm):\n",
    "        self.chat_collection = chat_collection\n",
    "        self.llm = llm\n",
    "    \n",
    "    def store_conversation(self, session_id: str, user_message: str, ai_response: str, \n",
    "                          context_sources: List[str] = None) -> str:\n",
    "        \"\"\"Store a conversation turn in the chat history collection\"\"\"\n",
    "        conversation_id = str(uuid.uuid4())\n",
    "        timestamp = datetime.now().isoformat()\n",
    "        \n",
    "        # Create a conversation summary for better searchability\n",
    "        conversation_text = f\"User: {user_message}\\nAI: {ai_response}\"\n",
    "        \n",
    "        # Generate a label for this conversation using LLM\n",
    "        label = self._generate_conversation_label(user_message, ai_response)\n",
    "        #** no need to make label on each message. Do it when chat ends\n",
    "        metadata = {\n",
    "            \"session_id\": session_id,\n",
    "            \"conversation_id\": conversation_id,\n",
    "            \"timestamp\": timestamp,\n",
    "            \"user_message\": user_message,\n",
    "            \"ai_response\": ai_response,\n",
    "            \"context_sources\": context_sources or [],\n",
    "            \"label\": label,\n",
    "            \"message_type\": \"conversation_turn\"\n",
    "        }\n",
    "        \n",
    "        self.chat_collection.add(\n",
    "            documents=[conversation_text],\n",
    "            metadatas=[metadata],\n",
    "            ids=[conversation_id]\n",
    "        )\n",
    "        \n",
    "        return conversation_id\n",
    "    \n",
    "    def store_session_summary(self, session_id: str, messages: List[Dict]) -> str:\n",
    "        \"\"\"Store a summarized version of a long conversation session\"\"\"\n",
    "        summary_id = str(uuid.uuid4())\n",
    "        timestamp = datetime.now().isoformat()\n",
    "        \n",
    "        # Generate conversation summary\n",
    "        conversation_text = \"\\n\".join([\n",
    "            f\"{'User' if msg.get('role') == 'user' else 'AI'}: {msg.get('content', '')}\" \n",
    "            for msg in messages\n",
    "        ])\n",
    "        \n",
    "        summary = self._generate_conversation_summary(conversation_text)\n",
    "        label = self._generate_conversation_label(conversation_text[:500], summary)\n",
    "        \n",
    "        metadata = {\n",
    "            \"session_id\": session_id,\n",
    "            \"summary_id\": summary_id,\n",
    "            \"timestamp\": timestamp,\n",
    "            \"message_count\": len(messages),\n",
    "            \"original_length\": len(conversation_text),\n",
    "            \"summary_length\": len(summary),\n",
    "            \"label\": label,\n",
    "            \"message_type\": \"session_summary\"\n",
    "        }\n",
    "        \n",
    "        self.chat_collection.add(\n",
    "            documents=[summary],\n",
    "            metadatas=[metadata],\n",
    "            ids=[summary_id]\n",
    "        )\n",
    "        \n",
    "        return summary_id\n",
    "    \n",
    "    def search_chat_history(self, query: str, session_id: Optional[str] = None, \n",
    "                           limit: int = 5) -> List[Dict]:\n",
    "        \"\"\"Search through chat history for relevant conversations\"\"\"\n",
    "        where_filter = {\"message_type\": {\"$in\": [\"conversation_turn\", \"session_summary\"]}}\n",
    "        \n",
    "        if session_id:\n",
    "            where_filter[\"session_id\"] = session_id\n",
    "        \n",
    "        results = self.chat_collection.query(\n",
    "            query_texts=[query],\n",
    "            n_results=limit,\n",
    "            where=where_filter\n",
    "        )\n",
    "        \n",
    "        return self._format_chat_results(results)\n",
    "    \n",
    "    def get_session_context(self, session_id: str, limit: int = 10) -> List[Dict]:\n",
    "        \"\"\"Get recent conversation context for a specific session\"\"\"\n",
    "        results = self.chat_collection.query(\n",
    "            query_texts=[\"\"],  # Empty query to get by metadata only\n",
    "            n_results=limit,\n",
    "            where={\"session_id\": session_id, \"message_type\": \"conversation_turn\"}\n",
    "        )\n",
    "        \n",
    "        return self._format_chat_results(results)\n",
    "    \n",
    "    def _generate_conversation_label(self, user_message: str, ai_response: str) -> str:\n",
    "        \"\"\"Generate a descriptive label for the conversation using LLM\"\"\"\n",
    "        prompt = f\"\"\"Generate a short, descriptive label (3-5 words) for this conversation:\n",
    "\n",
    "User: {user_message[:200]}...\n",
    "AI: {ai_response[:200]}...\n",
    "\n",
    "Label:\"\"\"\n",
    "        \n",
    "        try:\n",
    "            response = self.llm.invoke(prompt)\n",
    "            return response.content.strip().replace('\\n', ' ')[:50]\n",
    "        except Exception as e:\n",
    "            print(f\"Error generating label: {e}\")\n",
    "            return \"General conversation\"\n",
    "    \n",
    "    def _generate_conversation_summary(self, conversation_text: str) -> str:\n",
    "        \"\"\"Generate a summary of a long conversation\"\"\"\n",
    "        prompt = f\"\"\"Summarize this conversation in 2-3 sentences, focusing on the main topics and key information discussed:\n",
    "\n",
    "{conversation_text[:2000]}...\n",
    "\n",
    "Summary:\"\"\"\n",
    "        \n",
    "        try:\n",
    "            response = self.llm.invoke(prompt)\n",
    "            return response.content.strip()\n",
    "        except Exception as e:\n",
    "            print(f\"Error generating summary: {e}\")\n",
    "            return conversation_text[:500] + \"...\"\n",
    "    \n",
    "    def _format_chat_results(self, results: Dict) -> List[Dict]:\n",
    "        \"\"\"Format ChromaDB results into a more usable format\"\"\"\n",
    "        formatted_results = []\n",
    "        \n",
    "        if results['documents'] and len(results['documents']) > 0:\n",
    "            for i in range(len(results['documents'][0])):\n",
    "                formatted_results.append({\n",
    "                    'content': results['documents'][0][i],\n",
    "                    'metadata': results['metadatas'][0][i],\n",
    "                    'distance': results['distances'][0][i] if 'distances' in results else None\n",
    "                })\n",
    "        \n",
    "        return formatted_results\n",
    "\n",
    "# Initialize chat history manager\n",
    "chat_manager = ChatHistoryManager(chat_collection, llm)"
   ]
  },
  {
   "cell_type": "markdown",
   "id": "632c3188",
   "metadata": {},
   "source": [
    "## Image processing layer"
   ]
  },
  {
   "cell_type": "code",
   "execution_count": 23,
   "id": "t6c2pl94jr",
   "metadata": {},
   "outputs": [],
   "source": [
    "import base64\n",
    "from langchain_core.messages import HumanMessage\n",
    "\n",
    "class VisionProcessor:\n",
    "    def __init__(self, vision_model):\n",
    "        self.vision_model = vision_model\n",
    "    \n",
    "    def analyze_image(self, image_path: str) -> str:\n",
    "        \"\"\"Analyze an image using Gemini 2.5 vision capabilities\"\"\"\n",
    "        try:\n",
    "            # Read and encode image\n",
    "            with open(image_path, \"rb\") as image_file:\n",
    "                image_data = base64.b64encode(image_file.read()).decode()\n",
    "            \n",
    "            # Create message with image\n",
    "            message = HumanMessage(\n",
    "                content=[\n",
    "                    {\n",
    "                        \"type\": \"text\",\n",
    "                        \"text\": \"Analyze this image and provide a detailed description. Include any text, objects, charts, diagrams, or other relevant information you can see.\"\n",
    "                    },\n",
    "                    {\n",
    "                        \"type\": \"image_url\",\n",
    "                        \"image_url\": {\n",
    "                            \"url\": f\"data:image/jpeg;base64,{image_data}\"\n",
    "                        }\n",
    "                    }\n",
    "                ]\n",
    "            )\n",
    "            \n",
    "            response = self.vision_model.invoke([message])\n",
    "            return response.content\n",
    "            \n",
    "        except Exception as e:\n",
    "            print(f\"Error analyzing image {image_path}: {e}\")\n",
    "            return f\"Error analyzing image: {e}\"\n",
    "    \n",
    "    def analyze_image_bytes(self, image_bytes: bytes, image_name: str = \"image\") -> str:\n",
    "        \"\"\"Analyze image from bytes using Gemini 2.5 vision capabilities\"\"\"\n",
    "        try:\n",
    "            # Encode image bytes\n",
    "            image_data = base64.b64encode(image_bytes).decode()\n",
    "            \n",
    "            # Create message with image\n",
    "            message = HumanMessage(\n",
    "                content=[\n",
    "                    {\n",
    "                        \"type\": \"text\",\n",
    "                        \"text\": \"Analyze this image and provide a detailed description. Include any text, objects, charts, diagrams, or other relevant information you can see.\"\n",
    "                    },\n",
    "                    {\n",
    "                        \"type\": \"image_url\",\n",
    "                        \"image_url\": {\n",
    "                            \"url\": f\"data:image/jpeg;base64,{image_data}\"\n",
    "                        }\n",
    "                    }\n",
    "                ]\n",
    "            )\n",
    "            \n",
    "            response = self.vision_model.invoke([message])\n",
    "            return response.content\n",
    "            \n",
    "        except Exception as e:\n",
    "            print(f\"Error analyzing image {image_name}: {e}\")\n",
    "            return f\"Error analyzing image: {e}\"\n",
    "\n",
    "# Initialize vision processor\n",
    "vision_processor = VisionProcessor(vision_llm)"
   ]
  },
  {
   "cell_type": "markdown",
   "id": "a6ffbfb0",
   "metadata": {},
   "source": [
    "### Text chunking layer"
   ]
  },
  {
   "cell_type": "code",
   "execution_count": 24,
   "id": "4df54752",
   "metadata": {},
   "outputs": [
    {
     "name": "stdout",
     "output_type": "stream",
     "text": [
      "Split blog post into 63 sub-documents.\n"
     ]
    }
   ],
   "source": [
    "os.environ.get('USER_AGENT','-1')\n",
    "from langchain_text_splitters import RecursiveCharacterTextSplitter\n",
    "\n",
    "text_splitter = RecursiveCharacterTextSplitter(\n",
    "    chunk_size=1000,  # chunk size (characters)\n",
    "    chunk_overlap=200,  # chunk overlap (characters)\n",
    "    add_start_index=True,  # track index in original document\n",
    ")\n",
    "all_splits = text_splitter.split_documents(docs)\n",
    "\n",
    "print(f\"Split blog post into {len(all_splits)} sub-documents.\")"
   ]
  },
  {
   "cell_type": "markdown",
   "id": "7f547534",
   "metadata": {},
   "source": [
    "### Defining Prompt and State "
   ]
  },
  {
   "cell_type": "code",
   "execution_count": 25,
   "id": "6e7718a2",
   "metadata": {},
   "outputs": [
    {
     "name": "stdout",
     "output_type": "stream",
     "text": [
      "You are an assistant for question-answering tasks. Use the following pieces of retrieved context to answer the question. If you don't know the answer, just say that you don't know. Use three sentences maximum and keep the answer concise.\n",
      "Question: (question goes here) \n",
      "Context: (context goes here) \n",
      "Answer:\n"
     ]
    }
   ],
   "source": [
    "from langchain import hub\n",
    "\n",
    "prompt = hub.pull('rlm/rag-prompt')\n",
    "\n",
    "example_message = prompt.invoke( {\"context\": \"(context goes here)\", \"question\": \"(question goes here)\"}).to_messages()\n",
    "\n",
    "print(example_message[0].content)\n"
   ]
  },
  {
   "cell_type": "code",
   "execution_count": 26,
   "id": "0e586021",
   "metadata": {},
   "outputs": [],
   "source": [
    "from langchain_core.documents import Document\n",
    "from typing_extensions import TypedDict, List\n",
    "\n",
    "class State(TypedDict):\n",
    "    question: str\n",
    "    context: List[Document]\n",
    "    answer: str\n",
    "    session_id: str  # Added session tracking"
   ]
  },
  {
   "cell_type": "markdown",
   "id": "82e0ba71",
   "metadata": {},
   "source": [
    "### Retrieve and Generate definition"
   ]
  },
  {
   "cell_type": "code",
   "execution_count": null,
   "id": "b26d8c66",
   "metadata": {},
   "outputs": [],
   "source": "def retrieve(state: State):\n    \"\"\"Enhanced retrieval from both document and chat collections\"\"\"\n    question = state.get('question', '')\n    \n    # Debug: Check if question is valid\n    if not question or not question.strip():\n        print(f\"Warning: Empty question received: '{question}'\")\n        return {'context': []}\n    \n    print(f\"Searching for: '{question}'\")\n    \n    # Combine results\n    all_context = []\n    \n    try:\n        # Check if documents collection has any data\n        doc_count = documents_collection.count()\n        print(f\"Documents collection has {doc_count} items\")\n        \n        if doc_count > 0:\n            # Search documents collection\n            doc_results = documents_collection.query(\n                query_texts=[question],\n                n_results=min(3, doc_count)\n            )\n            print(f\"Document search successful\")\n            \n            # Add document results\n            if doc_results['documents'] and len(doc_results['documents']) > 0:\n                for i in range(len(doc_results['documents'][0])):\n                    from langchain_core.documents import Document\n                    all_context.append(Document(\n                        page_content=doc_results['documents'][0][i],\n                        metadata=doc_results['metadatas'][0][i] if doc_results['metadatas'] and len(doc_results['metadatas']) > 0 else {}\n                    ))\n        else:\n            print(\"Documents collection is empty\")\n            \n    except Exception as e:\n        print(f\"Error searching documents: {e}\")\n    \n    try:\n        # Check if chat collection has any data\n        chat_count = chat_collection.count()\n        print(f\"Chat collection has {chat_count} items\")\n        \n        if chat_count > 0:\n            # Search chat history for relevant context\n            chat_results = chat_manager.search_chat_history(question, limit=2)\n            print(f\"Chat search successful, found {len(chat_results)} results\")\n            \n            # Add chat history results\n            for chat_result in chat_results:\n                from langchain_core.documents import Document\n                all_context.append(Document(\n                    page_content=f\"Previous conversation: {chat_result['content']}\",\n                    metadata={\"source\": \"chat_history\", **chat_result['metadata']}\n                ))\n        else:\n            print(\"Chat collection is empty\")\n            \n    except Exception as e:\n        print(f\"Error searching chat history: {e}\")\n    \n    print(f\"Total context documents: {len(all_context)}\")\n    return {'context': all_context}\n\ndef generate(state: State):\n    \"\"\"Enhanced generation with session tracking\"\"\"\n    docs_content = \"\\n\\n\".join(doc.page_content for doc in state['context'])\n    \n    # If no context available, use a default message\n    if not docs_content.strip():\n        docs_content = \"No relevant context found in knowledge base.\"\n    \n    # Create enhanced prompt with context sources\n    sources = [doc.metadata.get('source', 'unknown') for doc in state['context']]\n    context_info = f\"Sources: {', '.join(set(sources))}\\n\\n\" if sources else \"\"\n    \n    fed_prompt = prompt.invoke({\n        'question': state['question'], \n        'context': context_info + docs_content\n    })\n    \n    response = llm.invoke(fed_prompt)\n    \n    # Store this conversation in chat history\n    session_id = state.get('session_id', 'default_session')\n    try:\n        chat_manager.store_conversation(\n            session_id=session_id,\n            user_message=state['question'],\n            ai_response=response.content,\n            context_sources=sources\n        )\n    except Exception as e:\n        print(f\"Error storing conversation: {e}\")\n    \n    return {'answer': response.content}\n\ndef enhanced_rag_query(question: str, session_id: str = \"default_session\"):\n    \"\"\"Enhanced RAG query with session tracking\"\"\"\n    if not question or not question.strip():\n        return {'error': 'Question cannot be empty'}\n    \n    state = {\n        'question': question.strip(),\n        'session_id': session_id,\n        'context': [],\n        'answer': ''\n    }\n    \n    print(f\"Starting RAG query with: '{question}'\")\n    \n    # Retrieve context\n    state.update(retrieve(state))\n    \n    # Generate response\n    state.update(generate(state))\n    \n    return state"
  },
  {
   "cell_type": "code",
   "execution_count": 39,
   "id": "7dccba9f",
   "metadata": {},
   "outputs": [],
   "source": [
    "from langgraph.graph import START, StateGraph\n",
    "\n",
    "graph_builder = StateGraph(State).add_sequence([retrieve, generate])\n",
    "graph_builder.add_edge(START, \"retrieve\")\n",
    "graph = graph_builder.compile()"
   ]
  },
  {
   "cell_type": "code",
   "execution_count": 29,
   "id": "8ba4465b",
   "metadata": {},
   "outputs": [
    {
     "data": {
      "image/png": "[encoded data removed]",
      "text/plain": [
       "<IPython.core.display.Image object>"
      ]
     },
     "metadata": {},
     "output_type": "display_data"
    }
   ],
   "source": [
    "from IPython.display import Image, display\n",
    "\n",
    "display(Image(graph.get_graph().draw_mermaid_png()))"
   ]
  },
  {
   "cell_type": "code",
   "execution_count": 40,
   "id": "5c2ba0ee",
   "metadata": {},
   "outputs": [
    {
     "ename": "JSONDecodeError",
     "evalue": "Expecting value: line 1 column 1 (char 0) in query.",
     "output_type": "error",
     "traceback": [
      "\u001b[1;31m---------------------------------------------------------------------------\u001b[0m",
      "\u001b[1;31mJSONDecodeError\u001b[0m                           Traceback (most recent call last)",
      "Cell \u001b[1;32mIn[40], line 4\u001b[0m\n\u001b[0;32m      1\u001b[0m \u001b[38;5;66;03m# Example usage of enhanced RAG with multimodal support and chat history\u001b[39;00m\n\u001b[0;32m      2\u001b[0m \n\u001b[0;32m      3\u001b[0m \u001b[38;5;66;03m# Test enhanced RAG query\u001b[39;00m\n\u001b[1;32m----> 4\u001b[0m result \u001b[38;5;241m=\u001b[39m \u001b[43menhanced_rag_query\u001b[49m\u001b[43m(\u001b[49m\u001b[43mquestion\u001b[49m\u001b[38;5;241;43m=\u001b[39;49m\u001b[38;5;124;43m\"\u001b[39;49m\u001b[38;5;124;43mWhat is Task Decomposition?\u001b[39;49m\u001b[38;5;124;43m\"\u001b[39;49m\u001b[43m,\u001b[49m\u001b[43m \u001b[49m\u001b[43msession_id\u001b[49m\u001b[38;5;241;43m=\u001b[39;49m\u001b[38;5;124;43m\"\u001b[39;49m\u001b[38;5;124;43mdemo_session_1\u001b[39;49m\u001b[38;5;124;43m\"\u001b[39;49m\u001b[43m)\u001b[49m\n\u001b[0;32m      6\u001b[0m \u001b[38;5;28mprint\u001b[39m(\u001b[38;5;124mf\u001b[39m\u001b[38;5;124m\"\u001b[39m\u001b[38;5;124mQuestion: \u001b[39m\u001b[38;5;132;01m{\u001b[39;00mresult[\u001b[38;5;124m'\u001b[39m\u001b[38;5;124mquestion\u001b[39m\u001b[38;5;124m'\u001b[39m]\u001b[38;5;132;01m}\u001b[39;00m\u001b[38;5;124m\"\u001b[39m)\n\u001b[0;32m      7\u001b[0m \u001b[38;5;28mprint\u001b[39m(\u001b[38;5;124mf\u001b[39m\u001b[38;5;124m\"\u001b[39m\u001b[38;5;124mSession ID: \u001b[39m\u001b[38;5;132;01m{\u001b[39;00mresult[\u001b[38;5;124m'\u001b[39m\u001b[38;5;124msession_id\u001b[39m\u001b[38;5;124m'\u001b[39m]\u001b[38;5;132;01m}\u001b[39;00m\u001b[38;5;124m\"\u001b[39m)\n",
      "Cell \u001b[1;32mIn[38], line 72\u001b[0m, in \u001b[0;36menhanced_rag_query\u001b[1;34m(question, session_id)\u001b[0m\n\u001b[0;32m     64\u001b[0m state \u001b[38;5;241m=\u001b[39m {\n\u001b[0;32m     65\u001b[0m     \u001b[38;5;124m'\u001b[39m\u001b[38;5;124mquestion\u001b[39m\u001b[38;5;124m'\u001b[39m: question,\n\u001b[0;32m     66\u001b[0m     \u001b[38;5;124m'\u001b[39m\u001b[38;5;124msession_id\u001b[39m\u001b[38;5;124m'\u001b[39m: session_id,\n\u001b[0;32m     67\u001b[0m     \u001b[38;5;124m'\u001b[39m\u001b[38;5;124mcontext\u001b[39m\u001b[38;5;124m'\u001b[39m: [],\n\u001b[0;32m     68\u001b[0m     \u001b[38;5;124m'\u001b[39m\u001b[38;5;124manswer\u001b[39m\u001b[38;5;124m'\u001b[39m: \u001b[38;5;124m'\u001b[39m\u001b[38;5;124m'\u001b[39m\n\u001b[0;32m     69\u001b[0m }\n\u001b[0;32m     71\u001b[0m \u001b[38;5;66;03m# Retrieve context\u001b[39;00m\n\u001b[1;32m---> 72\u001b[0m state\u001b[38;5;241m.\u001b[39mupdate(\u001b[43mretrieve\u001b[49m\u001b[43m(\u001b[49m\u001b[43mstate\u001b[49m\u001b[43m)\u001b[49m)\n\u001b[0;32m     74\u001b[0m \u001b[38;5;66;03m# Generate response\u001b[39;00m\n\u001b[0;32m     75\u001b[0m state\u001b[38;5;241m.\u001b[39mupdate(generate(state))\n",
      "Cell \u001b[1;32mIn[38], line 6\u001b[0m, in \u001b[0;36mretrieve\u001b[1;34m(state)\u001b[0m\n\u001b[0;32m      3\u001b[0m question \u001b[38;5;241m=\u001b[39m state[\u001b[38;5;124m'\u001b[39m\u001b[38;5;124mquestion\u001b[39m\u001b[38;5;124m'\u001b[39m]\n\u001b[0;32m      5\u001b[0m \u001b[38;5;66;03m# Search documents collection\u001b[39;00m\n\u001b[1;32m----> 6\u001b[0m doc_results \u001b[38;5;241m=\u001b[39m \u001b[43mdocuments_collection\u001b[49m\u001b[38;5;241;43m.\u001b[39;49m\u001b[43mquery\u001b[49m\u001b[43m(\u001b[49m\n\u001b[0;32m      7\u001b[0m \u001b[43m    \u001b[49m\u001b[43mquery_texts\u001b[49m\u001b[38;5;241;43m=\u001b[39;49m\u001b[43m[\u001b[49m\u001b[43mquestion\u001b[49m\u001b[43m]\u001b[49m\u001b[43m,\u001b[49m\u001b[43m  \u001b[49m\u001b[38;5;66;43;03m# Fixed: ensure it's a list\u001b[39;49;00m\n\u001b[0;32m      8\u001b[0m \u001b[43m    \u001b[49m\u001b[43mn_results\u001b[49m\u001b[38;5;241;43m=\u001b[39;49m\u001b[38;5;241;43m3\u001b[39;49m\n\u001b[0;32m      9\u001b[0m \u001b[43m\u001b[49m\u001b[43m)\u001b[49m\n\u001b[0;32m     11\u001b[0m \u001b[38;5;66;03m# Search chat history for relevant context\u001b[39;00m\n\u001b[0;32m     12\u001b[0m chat_results \u001b[38;5;241m=\u001b[39m chat_manager\u001b[38;5;241m.\u001b[39msearch_chat_history(question, limit\u001b[38;5;241m=\u001b[39m\u001b[38;5;241m2\u001b[39m)\n",
      "File \u001b[1;32md:\\codes\\ragger\\venv\\lib\\site-packages\\chromadb\\api\\models\\Collection.py:209\u001b[0m, in \u001b[0;36mCollection.query\u001b[1;34m(self, query_embeddings, query_texts, query_images, query_uris, ids, n_results, where, where_document, include)\u001b[0m\n\u001b[0;32m    164\u001b[0m \u001b[38;5;28;01mdef\u001b[39;00m\u001b[38;5;250m \u001b[39m\u001b[38;5;21mquery\u001b[39m(\n\u001b[0;32m    165\u001b[0m     \u001b[38;5;28mself\u001b[39m,\n\u001b[0;32m    166\u001b[0m     query_embeddings: Optional[\n\u001b[1;32m   (...)\u001b[0m\n\u001b[0;32m    183\u001b[0m     ],\n\u001b[0;32m    184\u001b[0m ) \u001b[38;5;241m-\u001b[39m\u001b[38;5;241m>\u001b[39m QueryResult:\n\u001b[0;32m    185\u001b[0m \u001b[38;5;250m    \u001b[39m\u001b[38;5;124;03m\"\"\"Get the n_results nearest neighbor embeddings for provided query_embeddings or query_texts.\u001b[39;00m\n\u001b[0;32m    186\u001b[0m \n\u001b[0;32m    187\u001b[0m \u001b[38;5;124;03m    Args:\u001b[39;00m\n\u001b[1;32m   (...)\u001b[0m\n\u001b[0;32m    206\u001b[0m \n\u001b[0;32m    207\u001b[0m \u001b[38;5;124;03m    \"\"\"\u001b[39;00m\n\u001b[1;32m--> 209\u001b[0m     query_request \u001b[38;5;241m=\u001b[39m \u001b[38;5;28;43mself\u001b[39;49m\u001b[38;5;241;43m.\u001b[39;49m\u001b[43m_validate_and_prepare_query_request\u001b[49m\u001b[43m(\u001b[49m\n\u001b[0;32m    210\u001b[0m \u001b[43m        \u001b[49m\u001b[43mquery_embeddings\u001b[49m\u001b[38;5;241;43m=\u001b[39;49m\u001b[43mquery_embeddings\u001b[49m\u001b[43m,\u001b[49m\n\u001b[0;32m    211\u001b[0m \u001b[43m        \u001b[49m\u001b[43mquery_texts\u001b[49m\u001b[38;5;241;43m=\u001b[39;49m\u001b[43mquery_texts\u001b[49m\u001b[43m,\u001b[49m\n\u001b[0;32m    212\u001b[0m \u001b[43m        \u001b[49m\u001b[43mquery_images\u001b[49m\u001b[38;5;241;43m=\u001b[39;49m\u001b[43mquery_images\u001b[49m\u001b[43m,\u001b[49m\n\u001b[0;32m    213\u001b[0m \u001b[43m        \u001b[49m\u001b[43mquery_uris\u001b[49m\u001b[38;5;241;43m=\u001b[39;49m\u001b[43mquery_uris\u001b[49m\u001b[43m,\u001b[49m\n\u001b[0;32m    214\u001b[0m \u001b[43m        \u001b[49m\u001b[43mids\u001b[49m\u001b[38;5;241;43m=\u001b[39;49m\u001b[43mids\u001b[49m\u001b[43m,\u001b[49m\n\u001b[0;32m    215\u001b[0m \u001b[43m        \u001b[49m\u001b[43mn_results\u001b[49m\u001b[38;5;241;43m=\u001b[39;49m\u001b[43mn_results\u001b[49m\u001b[43m,\u001b[49m\n\u001b[0;32m    216\u001b[0m \u001b[43m        \u001b[49m\u001b[43mwhere\u001b[49m\u001b[38;5;241;43m=\u001b[39;49m\u001b[43mwhere\u001b[49m\u001b[43m,\u001b[49m\n\u001b[0;32m    217\u001b[0m \u001b[43m        \u001b[49m\u001b[43mwhere_document\u001b[49m\u001b[38;5;241;43m=\u001b[39;49m\u001b[43mwhere_document\u001b[49m\u001b[43m,\u001b[49m\n\u001b[0;32m    218\u001b[0m \u001b[43m        \u001b[49m\u001b[43minclude\u001b[49m\u001b[38;5;241;43m=\u001b[39;49m\u001b[43minclude\u001b[49m\u001b[43m,\u001b[49m\n\u001b[0;32m    219\u001b[0m \u001b[43m    \u001b[49m\u001b[43m)\u001b[49m\n\u001b[0;32m    221\u001b[0m     query_results \u001b[38;5;241m=\u001b[39m \u001b[38;5;28mself\u001b[39m\u001b[38;5;241m.\u001b[39m_client\u001b[38;5;241m.\u001b[39m_query(\n\u001b[0;32m    222\u001b[0m         collection_id\u001b[38;5;241m=\u001b[39m\u001b[38;5;28mself\u001b[39m\u001b[38;5;241m.\u001b[39mid,\n\u001b[0;32m    223\u001b[0m         ids\u001b[38;5;241m=\u001b[39mquery_request[\u001b[38;5;124m\"\u001b[39m\u001b[38;5;124mids\u001b[39m\u001b[38;5;124m\"\u001b[39m],\n\u001b[1;32m   (...)\u001b[0m\n\u001b[0;32m    230\u001b[0m         database\u001b[38;5;241m=\u001b[39m\u001b[38;5;28mself\u001b[39m\u001b[38;5;241m.\u001b[39mdatabase,\n\u001b[0;32m    231\u001b[0m     )\n\u001b[0;32m    233\u001b[0m     \u001b[38;5;28;01mreturn\u001b[39;00m \u001b[38;5;28mself\u001b[39m\u001b[38;5;241m.\u001b[39m_transform_query_response(\n\u001b[0;32m    234\u001b[0m         response\u001b[38;5;241m=\u001b[39mquery_results, include\u001b[38;5;241m=\u001b[39mquery_request[\u001b[38;5;124m\"\u001b[39m\u001b[38;5;124minclude\u001b[39m\u001b[38;5;124m\"\u001b[39m]\n\u001b[0;32m    235\u001b[0m     )\n",
      "File \u001b[1;32md:\\codes\\ragger\\venv\\lib\\site-packages\\chromadb\\api\\models\\CollectionCommon.py:95\u001b[0m, in \u001b[0;36mvalidation_context.<locals>.decorator.<locals>.wrapper\u001b[1;34m(self, *args, **kwargs)\u001b[0m\n\u001b[0;32m     92\u001b[0m \u001b[38;5;129m@functools\u001b[39m\u001b[38;5;241m.\u001b[39mwraps(func)\n\u001b[0;32m     93\u001b[0m \u001b[38;5;28;01mdef\u001b[39;00m\u001b[38;5;250m \u001b[39m\u001b[38;5;21mwrapper\u001b[39m(\u001b[38;5;28mself\u001b[39m: Any, \u001b[38;5;241m*\u001b[39margs: Any, \u001b[38;5;241m*\u001b[39m\u001b[38;5;241m*\u001b[39mkwargs: Any) \u001b[38;5;241m-\u001b[39m\u001b[38;5;241m>\u001b[39m T:\n\u001b[0;32m     94\u001b[0m     \u001b[38;5;28;01mtry\u001b[39;00m:\n\u001b[1;32m---> 95\u001b[0m         \u001b[38;5;28;01mreturn\u001b[39;00m func(\u001b[38;5;28mself\u001b[39m, \u001b[38;5;241m*\u001b[39margs, \u001b[38;5;241m*\u001b[39m\u001b[38;5;241m*\u001b[39mkwargs)\n\u001b[0;32m     96\u001b[0m     \u001b[38;5;28;01mexcept\u001b[39;00m \u001b[38;5;167;01mException\u001b[39;00m \u001b[38;5;28;01mas\u001b[39;00m e:\n\u001b[0;32m     97\u001b[0m         msg \u001b[38;5;241m=\u001b[39m \u001b[38;5;124mf\u001b[39m\u001b[38;5;124m\"\u001b[39m\u001b[38;5;132;01m{\u001b[39;00m\u001b[38;5;28mstr\u001b[39m(e)\u001b[38;5;132;01m}\u001b[39;00m\u001b[38;5;124m in \u001b[39m\u001b[38;5;132;01m{\u001b[39;00mname\u001b[38;5;132;01m}\u001b[39;00m\u001b[38;5;124m.\u001b[39m\u001b[38;5;124m\"\u001b[39m\n",
      "File \u001b[1;32md:\\codes\\ragger\\venv\\lib\\site-packages\\chromadb\\api\\models\\CollectionCommon.py:316\u001b[0m, in \u001b[0;36mCollectionCommon._validate_and_prepare_query_request\u001b[1;34m(self, query_embeddings, query_texts, query_images, query_uris, ids, n_results, where, where_document, include)\u001b[0m\n\u001b[0;32m    314\u001b[0m \u001b[38;5;28;01mif\u001b[39;00m query_records[\u001b[38;5;124m\"\u001b[39m\u001b[38;5;124membeddings\u001b[39m\u001b[38;5;124m\"\u001b[39m] \u001b[38;5;129;01mis\u001b[39;00m \u001b[38;5;28;01mNone\u001b[39;00m:\n\u001b[0;32m    315\u001b[0m     validate_record_set_for_embedding(record_set\u001b[38;5;241m=\u001b[39mquery_records)\n\u001b[1;32m--> 316\u001b[0m     request_embeddings \u001b[38;5;241m=\u001b[39m \u001b[38;5;28;43mself\u001b[39;49m\u001b[38;5;241;43m.\u001b[39;49m\u001b[43m_embed_record_set\u001b[49m\u001b[43m(\u001b[49m\u001b[43mrecord_set\u001b[49m\u001b[38;5;241;43m=\u001b[39;49m\u001b[43mquery_records\u001b[49m\u001b[43m)\u001b[49m\n\u001b[0;32m    317\u001b[0m \u001b[38;5;28;01melse\u001b[39;00m:\n\u001b[0;32m    318\u001b[0m     request_embeddings \u001b[38;5;241m=\u001b[39m query_records[\u001b[38;5;124m\"\u001b[39m\u001b[38;5;124membeddings\u001b[39m\u001b[38;5;124m\"\u001b[39m]\n",
      "File \u001b[1;32md:\\codes\\ragger\\venv\\lib\\site-packages\\chromadb\\api\\models\\CollectionCommon.py:551\u001b[0m, in \u001b[0;36mCollectionCommon._embed_record_set\u001b[1;34m(self, record_set, embeddable_fields)\u001b[0m\n\u001b[0;32m    547\u001b[0m             \u001b[38;5;28;01mreturn\u001b[39;00m \u001b[38;5;28mself\u001b[39m\u001b[38;5;241m.\u001b[39m_embed(\n\u001b[0;32m    548\u001b[0m                 \u001b[38;5;28minput\u001b[39m\u001b[38;5;241m=\u001b[39m\u001b[38;5;28mself\u001b[39m\u001b[38;5;241m.\u001b[39m_data_loader(uris\u001b[38;5;241m=\u001b[39mcast(URIs, record_set[field]))  \u001b[38;5;66;03m# type: ignore[literal-required]\u001b[39;00m\n\u001b[0;32m    549\u001b[0m             )\n\u001b[0;32m    550\u001b[0m         \u001b[38;5;28;01melse\u001b[39;00m:\n\u001b[1;32m--> 551\u001b[0m             \u001b[38;5;28;01mreturn\u001b[39;00m \u001b[38;5;28;43mself\u001b[39;49m\u001b[38;5;241;43m.\u001b[39;49m\u001b[43m_embed\u001b[49m\u001b[43m(\u001b[49m\u001b[38;5;28;43minput\u001b[39;49m\u001b[38;5;241;43m=\u001b[39;49m\u001b[43mrecord_set\u001b[49m\u001b[43m[\u001b[49m\u001b[43mfield\u001b[49m\u001b[43m]\u001b[49m\u001b[43m)\u001b[49m  \u001b[38;5;66;03m# type: ignore[literal-required]\u001b[39;00m\n\u001b[0;32m    552\u001b[0m \u001b[38;5;28;01mraise\u001b[39;00m \u001b[38;5;167;01mValueError\u001b[39;00m(\n\u001b[0;32m    553\u001b[0m     \u001b[38;5;124m\"\u001b[39m\u001b[38;5;124mRecord does not contain any non-None fields that can be embedded.\u001b[39m\u001b[38;5;124m\"\u001b[39m\n\u001b[0;32m    554\u001b[0m     \u001b[38;5;124mf\u001b[39m\u001b[38;5;124m\"\u001b[39m\u001b[38;5;124mEmbeddable Fields: \u001b[39m\u001b[38;5;132;01m{\u001b[39;00membeddable_fields\u001b[38;5;132;01m}\u001b[39;00m\u001b[38;5;124m\"\u001b[39m\n\u001b[0;32m    555\u001b[0m     \u001b[38;5;124mf\u001b[39m\u001b[38;5;124m\"\u001b[39m\u001b[38;5;124mRecord Fields: \u001b[39m\u001b[38;5;132;01m{\u001b[39;00mrecord_set\u001b[38;5;132;01m}\u001b[39;00m\u001b[38;5;124m\"\u001b[39m\n\u001b[0;32m    556\u001b[0m )\n",
      "File \u001b[1;32md:\\codes\\ragger\\venv\\lib\\site-packages\\chromadb\\api\\models\\CollectionCommon.py:562\u001b[0m, in \u001b[0;36mCollectionCommon._embed\u001b[1;34m(self, input)\u001b[0m\n\u001b[0;32m    558\u001b[0m \u001b[38;5;28;01mdef\u001b[39;00m\u001b[38;5;250m \u001b[39m\u001b[38;5;21m_embed\u001b[39m(\u001b[38;5;28mself\u001b[39m, \u001b[38;5;28minput\u001b[39m: Any) \u001b[38;5;241m-\u001b[39m\u001b[38;5;241m>\u001b[39m Embeddings:\n\u001b[0;32m    559\u001b[0m     \u001b[38;5;28;01mif\u001b[39;00m \u001b[38;5;28mself\u001b[39m\u001b[38;5;241m.\u001b[39m_embedding_function \u001b[38;5;129;01mis\u001b[39;00m \u001b[38;5;129;01mnot\u001b[39;00m \u001b[38;5;28;01mNone\u001b[39;00m \u001b[38;5;129;01mand\u001b[39;00m \u001b[38;5;129;01mnot\u001b[39;00m \u001b[38;5;28misinstance\u001b[39m(\n\u001b[0;32m    560\u001b[0m         \u001b[38;5;28mself\u001b[39m\u001b[38;5;241m.\u001b[39m_embedding_function, ef\u001b[38;5;241m.\u001b[39mDefaultEmbeddingFunction\n\u001b[0;32m    561\u001b[0m     ):\n\u001b[1;32m--> 562\u001b[0m         \u001b[38;5;28;01mreturn\u001b[39;00m \u001b[38;5;28;43mself\u001b[39;49m\u001b[38;5;241;43m.\u001b[39;49m\u001b[43m_embedding_function\u001b[49m\u001b[43m(\u001b[49m\u001b[38;5;28;43minput\u001b[39;49m\u001b[38;5;241;43m=\u001b[39;49m\u001b[38;5;28;43minput\u001b[39;49m\u001b[43m)\u001b[49m\n\u001b[0;32m    563\u001b[0m     config_ef \u001b[38;5;241m=\u001b[39m \u001b[38;5;28mself\u001b[39m\u001b[38;5;241m.\u001b[39mconfiguration\u001b[38;5;241m.\u001b[39mget(\u001b[38;5;124m\"\u001b[39m\u001b[38;5;124membedding_function\u001b[39m\u001b[38;5;124m\"\u001b[39m)\n\u001b[0;32m    564\u001b[0m     \u001b[38;5;28;01mif\u001b[39;00m config_ef \u001b[38;5;129;01mis\u001b[39;00m \u001b[38;5;129;01mnot\u001b[39;00m \u001b[38;5;28;01mNone\u001b[39;00m:\n",
      "File \u001b[1;32md:\\codes\\ragger\\venv\\lib\\site-packages\\chromadb\\api\\types.py:554\u001b[0m, in \u001b[0;36mEmbeddingFunction.__init_subclass__.<locals>.__call__\u001b[1;34m(self, input)\u001b[0m\n\u001b[0;32m    553\u001b[0m \u001b[38;5;28;01mdef\u001b[39;00m\u001b[38;5;250m \u001b[39m\u001b[38;5;21m__call__\u001b[39m(\u001b[38;5;28mself\u001b[39m: EmbeddingFunction[D], \u001b[38;5;28minput\u001b[39m: D) \u001b[38;5;241m-\u001b[39m\u001b[38;5;241m>\u001b[39m Embeddings:\n\u001b[1;32m--> 554\u001b[0m     result \u001b[38;5;241m=\u001b[39m \u001b[43mcall\u001b[49m\u001b[43m(\u001b[49m\u001b[38;5;28;43mself\u001b[39;49m\u001b[43m,\u001b[49m\u001b[43m \u001b[49m\u001b[38;5;28;43minput\u001b[39;49m\u001b[43m)\u001b[49m\n\u001b[0;32m    555\u001b[0m     \u001b[38;5;28;01massert\u001b[39;00m result \u001b[38;5;129;01mis\u001b[39;00m \u001b[38;5;129;01mnot\u001b[39;00m \u001b[38;5;28;01mNone\u001b[39;00m\n\u001b[0;32m    556\u001b[0m     \u001b[38;5;28;01mreturn\u001b[39;00m validate_embeddings(cast(Embeddings, normalize_embeddings(result)))\n",
      "File \u001b[1;32md:\\codes\\ragger\\venv\\lib\\site-packages\\chromadb\\utils\\embedding_functions\\huggingface_embedding_function.py:73\u001b[0m, in \u001b[0;36mHuggingFaceEmbeddingFunction.__call__\u001b[1;34m(self, input)\u001b[0m\n\u001b[0;32m     55\u001b[0m \u001b[38;5;250m\u001b[39m\u001b[38;5;124;03m\"\"\"\u001b[39;00m\n\u001b[0;32m     56\u001b[0m \u001b[38;5;124;03mGet the embeddings for a list of texts.\u001b[39;00m\n\u001b[0;32m     57\u001b[0m \n\u001b[1;32m   (...)\u001b[0m\n\u001b[0;32m     67\u001b[0m \u001b[38;5;124;03m    >>> embeddings = hugging_face(texts)\u001b[39;00m\n\u001b[0;32m     68\u001b[0m \u001b[38;5;124;03m\"\"\"\u001b[39;00m\n\u001b[0;32m     69\u001b[0m \u001b[38;5;66;03m# Call HuggingFace Embedding API for each document\u001b[39;00m\n\u001b[0;32m     70\u001b[0m response \u001b[38;5;241m=\u001b[39m \u001b[38;5;28;43mself\u001b[39;49m\u001b[38;5;241;43m.\u001b[39;49m\u001b[43m_session\u001b[49m\u001b[38;5;241;43m.\u001b[39;49m\u001b[43mpost\u001b[49m\u001b[43m(\u001b[49m\n\u001b[0;32m     71\u001b[0m \u001b[43m    \u001b[49m\u001b[38;5;28;43mself\u001b[39;49m\u001b[38;5;241;43m.\u001b[39;49m\u001b[43m_api_url\u001b[49m\u001b[43m,\u001b[49m\n\u001b[0;32m     72\u001b[0m \u001b[43m    \u001b[49m\u001b[43mjson\u001b[49m\u001b[38;5;241;43m=\u001b[39;49m\u001b[43m{\u001b[49m\u001b[38;5;124;43m\"\u001b[39;49m\u001b[38;5;124;43minputs\u001b[39;49m\u001b[38;5;124;43m\"\u001b[39;49m\u001b[43m:\u001b[49m\u001b[43m \u001b[49m\u001b[38;5;28;43minput\u001b[39;49m\u001b[43m,\u001b[49m\u001b[43m \u001b[49m\u001b[38;5;124;43m\"\u001b[39;49m\u001b[38;5;124;43moptions\u001b[39;49m\u001b[38;5;124;43m\"\u001b[39;49m\u001b[43m:\u001b[49m\u001b[43m \u001b[49m\u001b[43m{\u001b[49m\u001b[38;5;124;43m\"\u001b[39;49m\u001b[38;5;124;43mwait_for_model\u001b[39;49m\u001b[38;5;124;43m\"\u001b[39;49m\u001b[43m:\u001b[49m\u001b[43m \u001b[49m\u001b[38;5;28;43;01mTrue\u001b[39;49;00m\u001b[43m}\u001b[49m\u001b[43m}\u001b[49m\u001b[43m,\u001b[49m\n\u001b[1;32m---> 73\u001b[0m \u001b[43m\u001b[49m\u001b[43m)\u001b[49m\u001b[38;5;241;43m.\u001b[39;49m\u001b[43mjson\u001b[49m\u001b[43m(\u001b[49m\u001b[43m)\u001b[49m\n\u001b[0;32m     75\u001b[0m \u001b[38;5;66;03m# Convert to numpy arrays\u001b[39;00m\n\u001b[0;32m     76\u001b[0m \u001b[38;5;28;01mreturn\u001b[39;00m [np\u001b[38;5;241m.\u001b[39marray(embedding, dtype\u001b[38;5;241m=\u001b[39mnp\u001b[38;5;241m.\u001b[39mfloat32) \u001b[38;5;28;01mfor\u001b[39;00m embedding \u001b[38;5;129;01min\u001b[39;00m response]\n",
      "File \u001b[1;32md:\\codes\\ragger\\venv\\lib\\site-packages\\httpx\\_models.py:832\u001b[0m, in \u001b[0;36mResponse.json\u001b[1;34m(self, **kwargs)\u001b[0m\n\u001b[0;32m    831\u001b[0m \u001b[38;5;28;01mdef\u001b[39;00m\u001b[38;5;250m \u001b[39m\u001b[38;5;21mjson\u001b[39m(\u001b[38;5;28mself\u001b[39m, \u001b[38;5;241m*\u001b[39m\u001b[38;5;241m*\u001b[39mkwargs: typing\u001b[38;5;241m.\u001b[39mAny) \u001b[38;5;241m-\u001b[39m\u001b[38;5;241m>\u001b[39m typing\u001b[38;5;241m.\u001b[39mAny:\n\u001b[1;32m--> 832\u001b[0m     \u001b[38;5;28;01mreturn\u001b[39;00m jsonlib\u001b[38;5;241m.\u001b[39mloads(\u001b[38;5;28mself\u001b[39m\u001b[38;5;241m.\u001b[39mcontent, \u001b[38;5;241m*\u001b[39m\u001b[38;5;241m*\u001b[39mkwargs)\n",
      "File \u001b[1;32mC:\\Program Files\\WindowsApps\\PythonSoftwareFoundation.Python.3.10_3.10.3056.0_x64__qbz5n2kfra8p0\\lib\\json\\__init__.py:346\u001b[0m, in \u001b[0;36mloads\u001b[1;34m(s, cls, object_hook, parse_float, parse_int, parse_constant, object_pairs_hook, **kw)\u001b[0m\n\u001b[0;32m    341\u001b[0m     s \u001b[38;5;241m=\u001b[39m s\u001b[38;5;241m.\u001b[39mdecode(detect_encoding(s), \u001b[38;5;124m'\u001b[39m\u001b[38;5;124msurrogatepass\u001b[39m\u001b[38;5;124m'\u001b[39m)\n\u001b[0;32m    343\u001b[0m \u001b[38;5;28;01mif\u001b[39;00m (\u001b[38;5;28mcls\u001b[39m \u001b[38;5;129;01mis\u001b[39;00m \u001b[38;5;28;01mNone\u001b[39;00m \u001b[38;5;129;01mand\u001b[39;00m object_hook \u001b[38;5;129;01mis\u001b[39;00m \u001b[38;5;28;01mNone\u001b[39;00m \u001b[38;5;129;01mand\u001b[39;00m\n\u001b[0;32m    344\u001b[0m         parse_int \u001b[38;5;129;01mis\u001b[39;00m \u001b[38;5;28;01mNone\u001b[39;00m \u001b[38;5;129;01mand\u001b[39;00m parse_float \u001b[38;5;129;01mis\u001b[39;00m \u001b[38;5;28;01mNone\u001b[39;00m \u001b[38;5;129;01mand\u001b[39;00m\n\u001b[0;32m    345\u001b[0m         parse_constant \u001b[38;5;129;01mis\u001b[39;00m \u001b[38;5;28;01mNone\u001b[39;00m \u001b[38;5;129;01mand\u001b[39;00m object_pairs_hook \u001b[38;5;129;01mis\u001b[39;00m \u001b[38;5;28;01mNone\u001b[39;00m \u001b[38;5;129;01mand\u001b[39;00m \u001b[38;5;129;01mnot\u001b[39;00m kw):\n\u001b[1;32m--> 346\u001b[0m     \u001b[38;5;28;01mreturn\u001b[39;00m \u001b[43m_default_decoder\u001b[49m\u001b[38;5;241;43m.\u001b[39;49m\u001b[43mdecode\u001b[49m\u001b[43m(\u001b[49m\u001b[43ms\u001b[49m\u001b[43m)\u001b[49m\n\u001b[0;32m    347\u001b[0m \u001b[38;5;28;01mif\u001b[39;00m \u001b[38;5;28mcls\u001b[39m \u001b[38;5;129;01mis\u001b[39;00m \u001b[38;5;28;01mNone\u001b[39;00m:\n\u001b[0;32m    348\u001b[0m     \u001b[38;5;28mcls\u001b[39m \u001b[38;5;241m=\u001b[39m JSONDecoder\n",
      "File \u001b[1;32mC:\\Program Files\\WindowsApps\\PythonSoftwareFoundation.Python.3.10_3.10.3056.0_x64__qbz5n2kfra8p0\\lib\\json\\decoder.py:337\u001b[0m, in \u001b[0;36mJSONDecoder.decode\u001b[1;34m(self, s, _w)\u001b[0m\n\u001b[0;32m    332\u001b[0m \u001b[38;5;28;01mdef\u001b[39;00m\u001b[38;5;250m \u001b[39m\u001b[38;5;21mdecode\u001b[39m(\u001b[38;5;28mself\u001b[39m, s, _w\u001b[38;5;241m=\u001b[39mWHITESPACE\u001b[38;5;241m.\u001b[39mmatch):\n\u001b[0;32m    333\u001b[0m \u001b[38;5;250m    \u001b[39m\u001b[38;5;124;03m\"\"\"Return the Python representation of ``s`` (a ``str`` instance\u001b[39;00m\n\u001b[0;32m    334\u001b[0m \u001b[38;5;124;03m    containing a JSON document).\u001b[39;00m\n\u001b[0;32m    335\u001b[0m \n\u001b[0;32m    336\u001b[0m \u001b[38;5;124;03m    \"\"\"\u001b[39;00m\n\u001b[1;32m--> 337\u001b[0m     obj, end \u001b[38;5;241m=\u001b[39m \u001b[38;5;28;43mself\u001b[39;49m\u001b[38;5;241;43m.\u001b[39;49m\u001b[43mraw_decode\u001b[49m\u001b[43m(\u001b[49m\u001b[43ms\u001b[49m\u001b[43m,\u001b[49m\u001b[43m \u001b[49m\u001b[43midx\u001b[49m\u001b[38;5;241;43m=\u001b[39;49m\u001b[43m_w\u001b[49m\u001b[43m(\u001b[49m\u001b[43ms\u001b[49m\u001b[43m,\u001b[49m\u001b[43m \u001b[49m\u001b[38;5;241;43m0\u001b[39;49m\u001b[43m)\u001b[49m\u001b[38;5;241;43m.\u001b[39;49m\u001b[43mend\u001b[49m\u001b[43m(\u001b[49m\u001b[43m)\u001b[49m\u001b[43m)\u001b[49m\n\u001b[0;32m    338\u001b[0m     end \u001b[38;5;241m=\u001b[39m _w(s, end)\u001b[38;5;241m.\u001b[39mend()\n\u001b[0;32m    339\u001b[0m     \u001b[38;5;28;01mif\u001b[39;00m end \u001b[38;5;241m!=\u001b[39m \u001b[38;5;28mlen\u001b[39m(s):\n",
      "File \u001b[1;32mC:\\Program Files\\WindowsApps\\PythonSoftwareFoundation.Python.3.10_3.10.3056.0_x64__qbz5n2kfra8p0\\lib\\json\\decoder.py:355\u001b[0m, in \u001b[0;36mJSONDecoder.raw_decode\u001b[1;34m(self, s, idx)\u001b[0m\n\u001b[0;32m    353\u001b[0m     obj, end \u001b[38;5;241m=\u001b[39m \u001b[38;5;28mself\u001b[39m\u001b[38;5;241m.\u001b[39mscan_once(s, idx)\n\u001b[0;32m    354\u001b[0m \u001b[38;5;28;01mexcept\u001b[39;00m \u001b[38;5;167;01mStopIteration\u001b[39;00m \u001b[38;5;28;01mas\u001b[39;00m err:\n\u001b[1;32m--> 355\u001b[0m     \u001b[38;5;28;01mraise\u001b[39;00m JSONDecodeError(\u001b[38;5;124m\"\u001b[39m\u001b[38;5;124mExpecting value\u001b[39m\u001b[38;5;124m\"\u001b[39m, s, err\u001b[38;5;241m.\u001b[39mvalue) \u001b[38;5;28;01mfrom\u001b[39;00m\u001b[38;5;250m \u001b[39m\u001b[38;5;28;01mNone\u001b[39;00m\n\u001b[0;32m    356\u001b[0m \u001b[38;5;28;01mreturn\u001b[39;00m obj, end\n",
      "\u001b[1;31mJSONDecodeError\u001b[0m: Expecting value: line 1 column 1 (char 0) in query."
     ]
    }
   ],
   "source": [
    "# Example usage of enhanced RAG with multimodal support and chat history\n",
    "\n",
    "# Test enhanced RAG query\n",
    "result = enhanced_rag_query(question=\"What is Task Decomposition?\", session_id=\"demo_session_1\")\n",
    "\n",
    "print(f\"Question: {result['question']}\")\n",
    "print(f\"Session ID: {result['session_id']}\")\n",
    "print(f\"Context Sources: {len(result['context'])} documents\")\n",
    "print(f\"Answer: {result['answer']}\")\n",
    "\n",
    "# Example of searching chat history\n",
    "print(\"\\n--- Chat History Search ---\")\n",
    "chat_results = chat_manager.search_chat_history(\"task decomposition\", limit=3)\n",
    "for i, chat in enumerate(chat_results):\n",
    "    print(f\"Chat {i+1}: {chat['metadata']['label']} - {chat['content'][:100]}...\")\n",
    "\n",
    "# Example file processing (uncomment when you have files to process)\n",
    "# print(\"\\n--- File Processing Example ---\")\n",
    "# docs = process_file(\"path/to/your/document.pdf\")\n",
    "# if docs:\n",
    "#     # Add documents to collection\n",
    "#     doc_texts = [doc.page_content for doc in docs]\n",
    "#     doc_metadatas = [doc.metadata for doc in docs]\n",
    "#     doc_ids = [f\"doc_{i}\" for i in range(len(docs))]\n",
    "#     \n",
    "#     documents_collection.add(\n",
    "#         documents=doc_texts,\n",
    "#         metadatas=doc_metadatas,\n",
    "#         ids=doc_ids\n",
    "#     )\n",
    "#     print(f\"Added {len(docs)} document chunks to collection\")\n",
    "\n",
    "# Example vision analysis (uncomment when you have images to analyze)\n",
    "# print(\"\\n--- Vision Analysis Example ---\")\n",
    "# image_analysis = vision_processor.analyze_image(\"path/to/your/image.jpg\")\n",
    "# print(f\"Image Analysis: {image_analysis}\")"
   ]
  },
  {
   "cell_type": "code",
   "execution_count": null,
   "id": "3b089d28",
   "metadata": {},
   "outputs": [],
   "source": []
  }
 ],
 "metadata": {
  "kernelspec": {
   "display_name": "venv",
   "language": "python",
   "name": "python3"
  },
  "language_info": {
   "codemirror_mode": {
    "name": "ipython",
    "version": 3
   },
   "file_extension": ".py",
   "mimetype": "text/x-python",
   "name": "python",
   "nbconvert_exporter": "python",
   "pygments_lexer": "ipython3",
   "version": "3.10.11"
  }
 },
 "nbformat": 4,
 "nbformat_minor": 5
}